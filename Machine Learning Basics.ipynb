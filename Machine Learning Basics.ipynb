{
 "cells": [
  {
   "cell_type": "markdown",
   "metadata": {},
   "source": [
    "# 5.1 Learning Algorithms"
   ]
  },
  {
   "cell_type": "markdown",
   "metadata": {},
   "source": [
    "$\\textbf{5.1.4}$ Example: Linear Regression\n",
    "\n",
    "Learner: $$\\pmb{y} = \\beta \\pmb{1_m} + w_1 \\pmb{x_1} + ... w_n \\pmb{x_n}$$\n",
    "where $\\beta$ (bias) and $w_i$ are scalar parameters (to fit), and $\\pmb{y, x_i} \\in \\mathbb{R}^{m \\times 1}$ for $i$ = 1,2,..,$n$ are the target and feature columns, respectively, of the given data."
   ]
  },
  {
   "cell_type": "code",
   "execution_count": 1,
   "metadata": {},
   "outputs": [],
   "source": [
    "import numpy as np\n",
    "import matplotlib.pyplot as plt\n",
    "from sklearn.datasets import load_boston\n",
    "from sklearn.model_selection import train_test_split\n",
    "from sklearn import linear_model\n",
    "from sklearn.metrics import mean_squared_error, r2_score"
   ]
  },
  {
   "cell_type": "code",
   "execution_count": 2,
   "metadata": {},
   "outputs": [
    {
     "data": {
      "text/plain": [
       "array([[6.3200e-03, 1.8000e+01, 2.3100e+00, 0.0000e+00, 5.3800e-01,\n",
       "        6.5750e+00, 6.5200e+01, 4.0900e+00, 1.0000e+00, 2.9600e+02,\n",
       "        1.5300e+01, 3.9690e+02, 4.9800e+00],\n",
       "       [2.7310e-02, 0.0000e+00, 7.0700e+00, 0.0000e+00, 4.6900e-01,\n",
       "        6.4210e+00, 7.8900e+01, 4.9671e+00, 2.0000e+00, 2.4200e+02,\n",
       "        1.7800e+01, 3.9690e+02, 9.1400e+00],\n",
       "       [2.7290e-02, 0.0000e+00, 7.0700e+00, 0.0000e+00, 4.6900e-01,\n",
       "        7.1850e+00, 6.1100e+01, 4.9671e+00, 2.0000e+00, 2.4200e+02,\n",
       "        1.7800e+01, 3.9283e+02, 4.0300e+00],\n",
       "       [3.2370e-02, 0.0000e+00, 2.1800e+00, 0.0000e+00, 4.5800e-01,\n",
       "        6.9980e+00, 4.5800e+01, 6.0622e+00, 3.0000e+00, 2.2200e+02,\n",
       "        1.8700e+01, 3.9463e+02, 2.9400e+00]])"
      ]
     },
     "execution_count": 2,
     "metadata": {},
     "output_type": "execute_result"
    }
   ],
   "source": [
    "boston = load_boston()\n",
    "boston.data[:4]"
   ]
  },
  {
   "cell_type": "code",
   "execution_count": 3,
   "metadata": {},
   "outputs": [
    {
     "data": {
      "text/plain": [
       "array([24. , 21.6, 34.7, 33.4])"
      ]
     },
     "execution_count": 3,
     "metadata": {},
     "output_type": "execute_result"
    }
   ],
   "source": [
    "boston.target[:4]"
   ]
  },
  {
   "cell_type": "code",
   "execution_count": 4,
   "metadata": {},
   "outputs": [],
   "source": [
    "X = boston.data\n",
    "y = boston.target\n",
    "\n",
    "X_train, X_test, y_train, y_test = train_test_split(X, y, test_size=0.2, random_state=13)"
   ]
  },
  {
   "cell_type": "code",
   "execution_count": 5,
   "metadata": {},
   "outputs": [],
   "source": [
    "# we create an instance of a Linear Regressor\n",
    "linreg = linear_model.LinearRegression(fit_intercept=True, normalize=True)"
   ]
  },
  {
   "cell_type": "markdown",
   "metadata": {},
   "source": [
    "$$ \\nabla_{\\pmb{w}} \\text{MSE}_\\text{train} = 0 $$\n",
    "\n",
    "$$ \\Rightarrow \\nabla_{\\pmb{w}} \\, \\frac{1}{m} \\, || \\, \\widehat{\\pmb{y}}^\\text{(train)} - \\pmb{y}^\\text{(train)} \\, ||_2^2 = 0 $$\n",
    "\n",
    "$$ \\Rightarrow \\pmb{w} = (\\pmb{X}^{\\text{(train)} \\, \\top} \\pmb{X}^\\text{(train)})^{-1} \\pmb{X}^{\\text{(train)} \\, \\top} \\pmb{y}^\\text{(train)} $$"
   ]
  },
  {
   "cell_type": "code",
   "execution_count": 6,
   "metadata": {},
   "outputs": [
    {
     "data": {
      "text/plain": [
       "LinearRegression(copy_X=True, fit_intercept=True, n_jobs=None, normalize=True)"
      ]
     },
     "execution_count": 6,
     "metadata": {},
     "output_type": "execute_result"
    }
   ],
   "source": [
    "#fit the model using the training data\n",
    "linreg.fit(X_train,y_train)"
   ]
  },
  {
   "cell_type": "code",
   "execution_count": 7,
   "metadata": {},
   "outputs": [
    {
     "name": "stdout",
     "output_type": "stream",
     "text": [
      "MSE between prediction and target\n",
      "(Mean Squared) Train Error:  21.555648194527308\n",
      "(Mean Squared) Test Error:  24.318238309170514  (estimated Generalization Error)\n"
     ]
    }
   ],
   "source": [
    "y_train_pred = linreg.predict(X_train)\n",
    "y_test_pred = linreg.predict(X_test)\n",
    "print(\"MSE between prediction and target\")\n",
    "print(\"(Mean Squared) Train Error: \", mean_squared_error(y_train, y_train_pred))\n",
    "print(\"(Mean Squared) Test Error: \", mean_squared_error(y_test, y_test_pred), \" (estimated Generalization Error)\")"
   ]
  },
  {
   "cell_type": "markdown",
   "metadata": {},
   "source": [
    "# 5.2 Capacity, Overfitting, and Underfitting"
   ]
  },
  {
   "cell_type": "markdown",
   "metadata": {},
   "source": [
    "Increased Capacity (e.g. quadratic features): $$\\pmb{y} = \\beta \\pmb{1_m} + w_1 \\pmb{x_1} + ... w_n \\pmb{x_n} + \\sum_{i}^{n} \\sum_{j}^{n} w_{in + j} \\pmb{x_i x_j}$$"
   ]
  },
  {
   "cell_type": "code",
   "execution_count": 8,
   "metadata": {},
   "outputs": [],
   "source": [
    "from sklearn.preprocessing import PolynomialFeatures"
   ]
  },
  {
   "cell_type": "code",
   "execution_count": 9,
   "metadata": {},
   "outputs": [],
   "source": [
    "n = 2\n",
    "poly2 = PolynomialFeatures(n,include_bias=False)"
   ]
  },
  {
   "cell_type": "code",
   "execution_count": 10,
   "metadata": {},
   "outputs": [],
   "source": [
    "poly2_X_train = poly2.fit_transform(X_train)\n",
    "poly2_X_test = poly2.fit_transform(X_test)"
   ]
  },
  {
   "cell_type": "code",
   "execution_count": 11,
   "metadata": {},
   "outputs": [
    {
     "data": {
      "text/plain": [
       "LinearRegression(copy_X=True, fit_intercept=True, n_jobs=None, normalize=True)"
      ]
     },
     "execution_count": 11,
     "metadata": {},
     "output_type": "execute_result"
    }
   ],
   "source": [
    "linreg.fit(poly2_X_train, y_train)"
   ]
  },
  {
   "cell_type": "code",
   "execution_count": 12,
   "metadata": {},
   "outputs": [
    {
     "name": "stdout",
     "output_type": "stream",
     "text": [
      "MSE between prediction and target\n",
      "Train Error:  5.582438040613098\n",
      "Test Error:  14.239658272086333  (estimated Generalization Error)\n"
     ]
    }
   ],
   "source": [
    "y_train_pred = linreg.predict(poly2_X_train)\n",
    "y_test_pred = linreg.predict(poly2_X_test)\n",
    "print(\"MSE between prediction and target\")\n",
    "print(\"Train Error: \", mean_squared_error(y_train, y_train_pred))\n",
    "print(\"Test Error: \", mean_squared_error(y_test, y_test_pred), \" (estimated Generalization Error)\")"
   ]
  },
  {
   "cell_type": "code",
   "execution_count": 13,
   "metadata": {},
   "outputs": [],
   "source": [
    "poly_n_err = np.empty(shape=(0,3))\n",
    "\n",
    "poly_order = 8\n",
    "for i in range(1,poly_order):\n",
    "    poly = PolynomialFeatures(i,include_bias=False)\n",
    "\n",
    "    poly_X_train = poly.fit_transform(X_train)\n",
    "    poly_X_test = poly.fit_transform(X_test)\n",
    "\n",
    "    linreg.fit(poly_X_train, y_train)\n",
    "    \n",
    "    y_train_pred = linreg.predict(poly_X_train)\n",
    "    y_test_pred = linreg.predict(poly_X_test)\n",
    "\n",
    "    train_err = mean_squared_error(y_train, y_train_pred)\n",
    "    test_err = mean_squared_error(y_test, y_test_pred)\n",
    "    score = r2_score(y_test, y_test_pred)\n",
    "\n",
    "    poly_n_err = np.append(poly_n_err, np.array([[train_err, test_err, score]]), axis=0)"
   ]
  },
  {
   "cell_type": "code",
   "execution_count": 14,
   "metadata": {},
   "outputs": [
    {
     "name": "stdout",
     "output_type": "stream",
     "text": [
      "[[2.15556482e+01 2.43182383e+01]\n",
      " [5.58243804e+00 1.42396583e+01]\n",
      " [4.91869631e-22 1.22986038e+04]\n",
      " [3.60601610e-24 5.61787829e+03]\n",
      " [2.04607100e-24 2.78339786e+03]\n",
      " [2.97062685e-24 1.86428341e+03]\n",
      " [8.94007422e-24 1.33097884e+03]]\n"
     ]
    },
    {
     "data": {
      "image/png": "[encoded data removed]",
      "text/plain": [
       "<Figure size 432x288 with 4 Axes>"
      ]
     },
     "metadata": {},
     "output_type": "display_data"
    }
   ],
   "source": [
    "print(poly_n_err[:, :2])\n",
    "\n",
    "fig = plt.figure()\n",
    "ax = fig.add_subplot(111)\n",
    "\n",
    "ax.spines['top'].set_color('none')\n",
    "ax.spines['bottom'].set_color('none')\n",
    "ax.spines['left'].set_color('none')\n",
    "ax.spines['right'].set_color('none')\n",
    "ax.tick_params(labelcolor='w', top=False, bottom=False, left=False, right=False)\n",
    "\n",
    "plt.subplots_adjust(wspace=0.7)\n",
    "\n",
    "ax1 = fig.add_subplot(131)\n",
    "ax1.plot(range(1,poly_order), poly_n_err[:,0])\n",
    "plt.xticks(range(1,poly_order))\n",
    "plt.title('Train')\n",
    "plt.ylim([0, 25])\n",
    "\n",
    "ax2 = fig.add_subplot(132)\n",
    "ax2.plot(range(1,poly_order), poly_n_err[:,1],'orange')\n",
    "plt.xticks(range(1,poly_order))\n",
    "plt.yticks(range(0,23,5))\n",
    "plt.title('Test')\n",
    "plt.ylim([0, 25])\n",
    "\n",
    "ax3 = fig.add_subplot(133)\n",
    "ax3.plot(range(1,poly_order), poly_n_err[:,1],'orange')\n",
    "plt.xticks(range(1,poly_order))\n",
    "plt.title('Test')\n",
    "\n",
    "ax.set_xlabel('polynomial order')\n",
    "ax.set_ylabel('mean-squared error')\n",
    "\n",
    "plt.show()"
   ]
  },
  {
   "cell_type": "markdown",
   "metadata": {},
   "source": [
    "# 5.3 Hyperparameters and Validation Sets"
   ]
  },
  {
   "cell_type": "markdown",
   "metadata": {},
   "source": [
    "Regularization: Minimmize $$J(\\pmb{w}) = \\text{MSE}_\\text{train} + \\lambda \\pmb{w}^T \\pmb{w} $$"
   ]
  },
  {
   "cell_type": "code",
   "execution_count": 15,
   "metadata": {},
   "outputs": [],
   "source": [
    "# import linear regressor with l2 regularization\n",
    "from sklearn.linear_model import Ridge"
   ]
  },
  {
   "cell_type": "code",
   "execution_count": 16,
   "metadata": {},
   "outputs": [],
   "source": [
    "# alpha = lambda = 1.0\n",
    "linreg_Ridge = linear_model.Ridge(alpha=1.0, fit_intercept=True, normalize=True, tol=1e-4)"
   ]
  },
  {
   "cell_type": "code",
   "execution_count": 17,
   "metadata": {},
   "outputs": [
    {
     "data": {
      "text/plain": [
       "Ridge(alpha=1.0, copy_X=True, fit_intercept=True, max_iter=None,\n",
       "   normalize=True, random_state=None, solver='auto', tol=0.0001)"
      ]
     },
     "execution_count": 17,
     "metadata": {},
     "output_type": "execute_result"
    }
   ],
   "source": [
    "# fit the 7th order polynomial\n",
    "linreg_Ridge.fit(poly_X_train,y_train)"
   ]
  },
  {
   "cell_type": "code",
   "execution_count": 18,
   "metadata": {},
   "outputs": [
    {
     "name": "stdout",
     "output_type": "stream",
     "text": [
      "MSE between prediction and target for 7th degree features\n",
      "Train Error:  3.926231368289153\n",
      "Test Error:  11.828806775996417  (estimated Generalization Error)\n"
     ]
    }
   ],
   "source": [
    "y_train_pred = linreg_Ridge.predict(poly_X_train)\n",
    "y_test_pred = linreg_Ridge.predict(poly_X_test)\n",
    "print(\"MSE between prediction and target for 7th degree features\")\n",
    "print(\"Train Error: \", mean_squared_error(y_train, y_train_pred))\n",
    "print(\"Test Error: \", mean_squared_error(y_test, y_test_pred), \" (estimated Generalization Error)\")"
   ]
  },
  {
   "cell_type": "code",
   "execution_count": 19,
   "metadata": {},
   "outputs": [
    {
     "name": "stderr",
     "output_type": "stream",
     "text": [
      "/home/josh/anaconda/envs/SINDy/lib/python3.6/site-packages/sklearn/linear_model/ridge.py:167: UserWarning: Singular matrix in solving dual problem. Using least-squares solution instead.\n",
      "  warnings.warn(\"Singular matrix in solving dual problem. Using \"\n"
     ]
    },
    {
     "name": "stdout",
     "output_type": "stream",
     "text": [
      "[[0.00000000e+00 3.27657247e-17 1.33098167e+03]\n",
      " [1.00000000e-01 1.85630979e+00 4.33175032e+01]\n",
      " [2.00000000e-01 2.31480299e+00 2.32970468e+01]\n",
      " [3.00000000e-01 2.64129403e+00 1.61694916e+01]\n",
      " [4.00000000e-01 2.90385707e+00 1.31858771e+01]\n",
      " [5.00000000e-01 3.12647249e+00 1.18998628e+01]\n",
      " [6.00000000e-01 3.32098239e+00 1.14015897e+01]\n",
      " [7.00000000e-01 3.49433005e+00 1.12947654e+01]\n",
      " [8.00000000e-01 3.65103128e+00 1.13884547e+01]\n",
      " [9.00000000e-01 3.79423174e+00 1.15841893e+01]\n",
      " [1.00000000e+00 3.92623137e+00 1.18288068e+01]\n",
      " [1.10000000e+00 4.04877302e+00 1.20927731e+01]\n",
      " [1.20000000e+00 4.16321428e+00 1.23594701e+01]\n",
      " [1.30000000e+00 4.27063605e+00 1.26195929e+01]\n",
      " [1.40000000e+00 4.37191441e+00 1.28680848e+01]\n",
      " [1.50000000e+00 4.46777009e+00 1.31023986e+01]\n",
      " [1.60000000e+00 4.55880357e+00 1.33214823e+01]\n",
      " [1.70000000e+00 4.64552063e+00 1.35251730e+01]\n",
      " [1.80000000e+00 4.72835137e+00 1.37138286e+01]\n",
      " [1.90000000e+00 4.80766465e+00 1.38881019e+01]\n",
      " [2.00000000e+00 4.88377920e+00 1.40487998e+01]\n",
      " [2.10000000e+00 4.95697230e+00 1.41967971e+01]\n",
      " [2.20000000e+00 5.02748665e+00 1.43329828e+01]\n",
      " [2.30000000e+00 5.09553592e+00 1.44582282e+01]\n",
      " [2.40000000e+00 5.16130912e+00 1.45733676e+01]\n",
      " [2.50000000e+00 5.22497432e+00 1.46791889e+01]\n",
      " [2.60000000e+00 5.28668157e+00 1.47764281e+01]\n",
      " [2.70000000e+00 5.34656537e+00 1.48657686e+01]\n",
      " [2.80000000e+00 5.40474680e+00 1.49478414e+01]\n",
      " [2.90000000e+00 5.46133518e+00 1.50232278e+01]]\n"
     ]
    }
   ],
   "source": [
    "reg_err = np.empty(shape=(0,3))\n",
    "\n",
    "reg_max = 3.0\n",
    "for i in np.arange(0,reg_max,0.1):\n",
    "    \n",
    "    linreg_Ridge = linear_model.Ridge(alpha=i, fit_intercept=True, normalize=True, tol=1e-4)\n",
    "\n",
    "    linreg_Ridge.fit(poly_X_train, y_train)\n",
    "    \n",
    "    y_train_pred = linreg_Ridge.predict(poly_X_train)\n",
    "    y_test_pred = linreg_Ridge.predict(poly_X_test)\n",
    "\n",
    "    train_err = mean_squared_error(y_train, y_train_pred)\n",
    "    test_err = mean_squared_error(y_test, y_test_pred)\n",
    "\n",
    "    reg_err = np.append(reg_err, np.array([[i,train_err, test_err]]), axis=0)\n",
    "    \n",
    "min_test_err_id = np.where(reg_err[:,2]==min(reg_err[:,2]))[0][0]\n",
    "alpha_min = reg_err[min_test_err_id,0]\n",
    "print(reg_err)"
   ]
  },
  {
   "cell_type": "code",
   "execution_count": 20,
   "metadata": {},
   "outputs": [
    {
     "data": {
      "image/png": "[encoded data removed]",
      "text/plain": [
       "<Figure size 432x288 with 4 Axes>"
      ]
     },
     "metadata": {},
     "output_type": "display_data"
    }
   ],
   "source": [
    "fig = plt.figure()\n",
    "ax = fig.add_subplot(111)\n",
    "\n",
    "ax.spines['top'].set_color('none')\n",
    "ax.spines['bottom'].set_color('none')\n",
    "ax.spines['left'].set_color('none')\n",
    "ax.spines['right'].set_color('none')\n",
    "ax.tick_params(labelcolor='w', top=False, bottom=False, left=False, right=False)\n",
    "\n",
    "plt.subplots_adjust(wspace=0.7)\n",
    "\n",
    "ax1 = fig.add_subplot(131)\n",
    "ax1.plot(reg_err[:,0], reg_err[:,1])\n",
    "plt.xticks([0, 1, 2, 3])\n",
    "plt.yticks(range(5,30,2))\n",
    "plt.title('Train')\n",
    "\n",
    "ax2 = fig.add_subplot(132)\n",
    "ax2.plot(reg_err[:,0], reg_err[:,2],'orange')\n",
    "plt.xticks([0, 1, 2, 3])\n",
    "#plt.yticks(range(5,30,2))\n",
    "plt.title('Test')\n",
    "plt.ylim([0, 29])\n",
    "\n",
    "ax2 = fig.add_subplot(133)\n",
    "ax2.plot(reg_err[:,0], reg_err[:,2],'orange')\n",
    "plt.xticks([0, 1, 2, 3])\n",
    "#plt.yticks(range(5,30,2))\n",
    "plt.title('Test')\n",
    "\n",
    "ax.set_xlabel('regularization parameter')\n",
    "ax.set_ylabel('mean-squared error')\n",
    "\n",
    "plt.show()"
   ]
  },
  {
   "cell_type": "markdown",
   "metadata": {},
   "source": [
    "K-fold Cross-Validation"
   ]
  },
  {
   "cell_type": "code",
   "execution_count": 21,
   "metadata": {},
   "outputs": [],
   "source": [
    "from sklearn.model_selection import KFold"
   ]
  },
  {
   "cell_type": "code",
   "execution_count": 22,
   "metadata": {},
   "outputs": [],
   "source": [
    "split_num = 10\n",
    "n_errs = np.empty(shape=(1,split_num))\n",
    "\n",
    "kf = KFold(n_splits = split_num)\n",
    "kf.get_n_splits(poly_X_train)\n",
    "\n",
    "linreg_Ridge_opt = linear_model.Ridge(alpha = alpha_min, fit_intercept=True, normalize=True, tol=1e-4)\n",
    "\n",
    "i = 0\n",
    "for train_index, test_index in kf.split(poly_X_train, y_train):\n",
    "    linreg_Ridge_opt.fit(poly_X_train[train_index],y_train[train_index])\n",
    "    n_errs[0,i] = mean_squared_error(y_train[test_index], linreg_Ridge_opt.predict(poly_X_train[test_index]))\n",
    "    i = i+1"
   ]
  },
  {
   "cell_type": "code",
   "execution_count": 23,
   "metadata": {},
   "outputs": [
    {
     "name": "stdout",
     "output_type": "stream",
     "text": [
      "[[48.27572232 83.10809635 21.11004131 19.76973478  8.5643428  63.80445846\n",
      "  19.03767704  5.61795224 17.63496428 15.89164314]]\n",
      "30.281463271156536\n"
     ]
    }
   ],
   "source": [
    "print(n_errs)\n",
    "print(sum(n_errs[0])/len(n_errs[0]))"
   ]
  },
  {
   "cell_type": "code",
   "execution_count": null,
   "metadata": {},
   "outputs": [],
   "source": []
  }
 ],
 "metadata": {
  "kernelspec": {
   "display_name": "Python 3",
   "language": "python",
   "name": "python3"
  },
  "language_info": {
   "codemirror_mode": {
    "name": "ipython",
    "version": 3
   },
   "file_extension": ".py",
   "mimetype": "text/x-python",
   "name": "python",
   "nbconvert_exporter": "python",
   "pygments_lexer": "ipython3",
   "version": "3.6.8"
  }
 },
 "nbformat": 4,
 "nbformat_minor": 2
}
