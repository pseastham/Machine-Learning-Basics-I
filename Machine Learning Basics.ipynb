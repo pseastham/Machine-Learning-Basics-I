{
 "cells": [
  {
   "cell_type": "markdown",
   "metadata": {},
   "source": [
    "# 5.1 Learning Algorithms"
   ]
  },
  {
   "cell_type": "markdown",
   "metadata": {},
   "source": [
    "$\\textbf{5.1.4}$ Example: Linear Regression\n",
    "\n",
    "Learner: $$\\pmb{y} = \\beta \\pmb{1_m} + w_1 \\pmb{x_1} + ... w_n \\pmb{x_n}$$\n",
    "where $\\beta$ (bias) and $w_i$ are scalar parameters (to fit), and $\\pmb{y, x_i} \\in \\mathbb{R}^{m \\times 1}$ for $i$ = 1,2,..,$n$ are the target and feature columns, respectively, of the given data."
   ]
  },
  {
   "cell_type": "code",
   "execution_count": 1,
   "metadata": {},
   "outputs": [],
   "source": [
    "import numpy as np\n",
    "import matplotlib.pyplot as plt\n",
    "from sklearn.datasets import load_boston\n",
    "from sklearn.model_selection import train_test_split\n",
    "from sklearn import linear_model\n",
    "from sklearn.metrics import mean_squared_error, r2_score"
   ]
  },
  {
   "cell_type": "code",
   "execution_count": 2,
   "metadata": {},
   "outputs": [
    {
     "data": {
      "text/plain": [
       "array([[6.3200e-03, 1.8000e+01, 2.3100e+00, 0.0000e+00, 5.3800e-01,\n",
       "        6.5750e+00, 6.5200e+01, 4.0900e+00, 1.0000e+00, 2.9600e+02,\n",
       "        1.5300e+01, 3.9690e+02, 4.9800e+00],\n",
       "       [2.7310e-02, 0.0000e+00, 7.0700e+00, 0.0000e+00, 4.6900e-01,\n",
       "        6.4210e+00, 7.8900e+01, 4.9671e+00, 2.0000e+00, 2.4200e+02,\n",
       "        1.7800e+01, 3.9690e+02, 9.1400e+00],\n",
       "       [2.7290e-02, 0.0000e+00, 7.0700e+00, 0.0000e+00, 4.6900e-01,\n",
       "        7.1850e+00, 6.1100e+01, 4.9671e+00, 2.0000e+00, 2.4200e+02,\n",
       "        1.7800e+01, 3.9283e+02, 4.0300e+00],\n",
       "       [3.2370e-02, 0.0000e+00, 2.1800e+00, 0.0000e+00, 4.5800e-01,\n",
       "        6.9980e+00, 4.5800e+01, 6.0622e+00, 3.0000e+00, 2.2200e+02,\n",
       "        1.8700e+01, 3.9463e+02, 2.9400e+00]])"
      ]
     },
     "execution_count": 2,
     "metadata": {},
     "output_type": "execute_result"
    }
   ],
   "source": [
    "boston = load_boston()\n",
    "boston.data[:4]"
   ]
  },
  {
   "cell_type": "code",
   "execution_count": 3,
   "metadata": {},
   "outputs": [
    {
     "data": {
      "text/plain": [
       "array([24. , 21.6, 34.7, 33.4])"
      ]
     },
     "execution_count": 3,
     "metadata": {},
     "output_type": "execute_result"
    }
   ],
   "source": [
    "boston.target[:4]"
   ]
  },
  {
   "cell_type": "code",
   "execution_count": 4,
   "metadata": {},
   "outputs": [],
   "source": [
    "X = boston.data\n",
    "y = boston.target\n",
    "\n",
    "X_train, X_test, y_train, y_test = train_test_split(X, y, test_size=0.3, random_state=13)"
   ]
  },
  {
   "cell_type": "code",
   "execution_count": 5,
   "metadata": {},
   "outputs": [],
   "source": [
    "# we create an instance of a Linear Regressor\n",
    "linreg = linear_model.LinearRegression(fit_intercept=True, normalize=True)"
   ]
  },
  {
   "cell_type": "code",
   "execution_count": 6,
   "metadata": {},
   "outputs": [
    {
     "data": {
      "text/plain": [
       "LinearRegression(copy_X=True, fit_intercept=True, n_jobs=None, normalize=True)"
      ]
     },
     "execution_count": 6,
     "metadata": {},
     "output_type": "execute_result"
    }
   ],
   "source": [
    "#fit the model using the training data\n",
    "linreg.fit(X_train,y_train)"
   ]
  },
  {
   "cell_type": "code",
   "execution_count": 7,
   "metadata": {},
   "outputs": [
    {
     "name": "stdout",
     "output_type": "stream",
     "text": [
      "normalized L-2 distance between prediction and target\n",
      "(Mean Squared) Train Error:  21.89631767714173\n",
      "(Mean Squared) Test Error:  23.54496609995834  (estimated Generalization Error)\n"
     ]
    }
   ],
   "source": [
    "y_train_pred = linreg.predict(X_train)\n",
    "y_test_pred = linreg.predict(X_test)\n",
    "print(\"normalized L-2 distance between prediction and target\")\n",
    "print(\"(Mean Squared) Train Error: \", mean_squared_error(y_train, y_train_pred))\n",
    "print(\"(Mean Squared) Test Error: \", mean_squared_error(y_test, y_test_pred), \" (estimated Generalization Error)\")"
   ]
  },
  {
   "cell_type": "markdown",
   "metadata": {},
   "source": [
    "# 5.2 Capacity, Overfitting, and Underfitting"
   ]
  },
  {
   "cell_type": "markdown",
   "metadata": {},
   "source": [
    "Increased Capacity (e.g. quadratic features): $$\\pmb{y} = \\beta \\pmb{1_m} + w_1 \\pmb{x_1} + ... w_n \\pmb{x_n} + \\sum_{i}^{n} \\sum_{j}^{n} w_{in + j} \\pmb{x_i x_j}$$"
   ]
  },
  {
   "cell_type": "code",
   "execution_count": 8,
   "metadata": {},
   "outputs": [],
   "source": [
    "from sklearn.preprocessing import PolynomialFeatures"
   ]
  },
  {
   "cell_type": "code",
   "execution_count": 9,
   "metadata": {},
   "outputs": [],
   "source": [
    "n = 2\n",
    "poly2 = PolynomialFeatures(n,include_bias=False)"
   ]
  },
  {
   "cell_type": "code",
   "execution_count": 10,
   "metadata": {},
   "outputs": [],
   "source": [
    "poly2_X_train = poly2.fit_transform(X_train)\n",
    "poly2_X_test = poly2.fit_transform(X_test)"
   ]
  },
  {
   "cell_type": "code",
   "execution_count": 11,
   "metadata": {},
   "outputs": [
    {
     "data": {
      "text/plain": [
       "LinearRegression(copy_X=True, fit_intercept=True, n_jobs=None, normalize=True)"
      ]
     },
     "execution_count": 11,
     "metadata": {},
     "output_type": "execute_result"
    }
   ],
   "source": [
    "linreg.fit(poly2_X_train, y_train)"
   ]
  },
  {
   "cell_type": "code",
   "execution_count": 12,
   "metadata": {},
   "outputs": [
    {
     "name": "stdout",
     "output_type": "stream",
     "text": [
      "L-2 distance between prediction and target\n",
      "Train Error:  5.102553706349915\n",
      "Test Error:  20.196509156944856  (estimated Generalization Error)\n"
     ]
    }
   ],
   "source": [
    "y_train_pred = linreg.predict(poly2_X_train)\n",
    "y_test_pred = linreg.predict(poly2_X_test)\n",
    "print(\"L-2 distance between prediction and target\")\n",
    "print(\"Train Error: \", mean_squared_error(y_train, y_train_pred))\n",
    "print(\"Test Error: \", mean_squared_error(y_test, y_test_pred), \" (estimated Generalization Error)\")"
   ]
  },
  {
   "cell_type": "code",
   "execution_count": 13,
   "metadata": {},
   "outputs": [],
   "source": [
    "poly_n_err = np.empty(shape=(0,3))\n",
    "\n",
    "poly_order = 5\n",
    "for i in range(1,poly_order):\n",
    "    poly = PolynomialFeatures(i,include_bias=False)\n",
    "\n",
    "    poly_X_train = poly.fit_transform(X_train)\n",
    "    poly_X_test = poly.fit_transform(X_test)\n",
    "\n",
    "    linreg.fit(poly_X_train, y_train)\n",
    "    \n",
    "    y_train_pred = linreg.predict(poly_X_train)\n",
    "    y_test_pred = linreg.predict(poly_X_test)\n",
    "\n",
    "    train_err = mean_squared_error(y_train, y_train_pred)\n",
    "    test_err = mean_squared_error(y_test, y_test_pred)\n",
    "    score = r2_score(y_test, y_test_pred)\n",
    "\n",
    "    poly_n_err = np.append(poly_n_err, np.array([[train_err, test_err, score]]), axis=0)"
   ]
  },
  {
   "cell_type": "code",
   "execution_count": 30,
   "metadata": {},
   "outputs": [
    {
     "name": "stdout",
     "output_type": "stream",
     "text": [
      "[[2.18963177e+01 2.35449661e+01]\n",
      " [5.10255371e+00 2.01965092e+01]\n",
      " [4.27544371e-23 2.12730532e+04]\n",
      " [5.30410736e-24 1.62743091e+04]]\n"
     ]
    },
    {
     "data": {
      "image/png": "[encoded data removed]",
      "text/plain": [
       "<Figure size 432x288 with 4 Axes>"
      ]
     },
     "metadata": {},
     "output_type": "display_data"
    }
   ],
   "source": [
    "print(poly_n_err[:, :2])\n",
    "\n",
    "fig = plt.figure()\n",
    "ax = fig.add_subplot(111)\n",
    "\n",
    "ax.spines['top'].set_color('none')\n",
    "ax.spines['bottom'].set_color('none')\n",
    "ax.spines['left'].set_color('none')\n",
    "ax.spines['right'].set_color('none')\n",
    "ax.tick_params(labelcolor='w', top=False, bottom=False, left=False, right=False)\n",
    "\n",
    "plt.subplots_adjust(wspace=0.7)\n",
    "\n",
    "ax1 = fig.add_subplot(131)\n",
    "ax1.plot(range(1,poly_order), poly_n_err[:,0])\n",
    "plt.xticks(range(1,poly_order))\n",
    "plt.title('Train')\n",
    "plt.ylim([0, 25])\n",
    "\n",
    "ax2 = fig.add_subplot(132)\n",
    "ax2.plot(range(1,poly_order), poly_n_err[:,1],'orange')\n",
    "plt.xticks(range(1,poly_order))\n",
    "plt.yticks(range(0,23,5))\n",
    "plt.title('Test')\n",
    "plt.ylim([0, 25])\n",
    "\n",
    "ax3 = fig.add_subplot(133)\n",
    "ax3.plot(range(1,poly_order), poly_n_err[:,1],'orange')\n",
    "plt.xticks(range(1,poly_order))\n",
    "plt.title('Test')\n",
    "\n",
    "ax.set_xlabel('polynomial order')\n",
    "ax.set_ylabel('mean-squared error')\n",
    "\n",
    "plt.show()"
   ]
  },
  {
   "cell_type": "code",
   "execution_count": 17,
   "metadata": {},
   "outputs": [
    {
     "name": "stdout",
     "output_type": "stream",
     "text": [
      "Coefficients:  [ 1.46006643e+00  4.93877937e-01  1.68730808e+00 ...  1.95491574e-06\n",
      " -5.59988554e-06 -4.13291934e-04]\n"
     ]
    }
   ],
   "source": [
    "# The coefficients\n",
    "print('Coefficients: ', linreg.coef_)\n",
    "# The mean squared error\n",
    "#print('Mean squared error: ', mean_squared_error(y_test, y_test_pred))\n",
    "# Explained variance score: 1 is perfect prediction\n",
    "#print('Variance score: ', r2_score(y_test, y_test_pred))"
   ]
  },
  {
   "cell_type": "code",
   "execution_count": null,
   "metadata": {},
   "outputs": [],
   "source": []
  }
 ],
 "metadata": {
  "kernelspec": {
   "display_name": "Python 3",
   "language": "python",
   "name": "python3"
  },
  "language_info": {
   "codemirror_mode": {
    "name": "ipython",
    "version": 3
   },
   "file_extension": ".py",
   "mimetype": "text/x-python",
   "name": "python",
   "nbconvert_exporter": "python",
   "pygments_lexer": "ipython3",
   "version": "3.6.8"
  }
 },
 "nbformat": 4,
 "nbformat_minor": 2
}
